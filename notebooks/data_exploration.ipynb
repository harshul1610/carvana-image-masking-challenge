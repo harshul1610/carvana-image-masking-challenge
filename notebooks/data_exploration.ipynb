{
 "cells": [
  {
   "cell_type": "code",
   "execution_count": null,
   "metadata": {},
   "outputs": [],
   "source": [
    "import numpy as np # linear algebra\n",
    "import pandas as pd # data processing, CSV file I/O (e.g. pd.read_csv)\n",
    "import matplotlib.pyplot as plt\n",
    "import matplotlib.image as mpimg\n",
    "import seaborn as sns\n",
    "from sklearn import model_selection, preprocessing, metrics\n",
    "from sklearn.utils import shuffle\n",
    "import xgboost as xgb\n",
    "import os\n",
    "import re\n",
    "import time\n",
    "#import h5py\n",
    "import pickle\n",
    "from tqdm import tqdm\n",
    "#import cv2\n",
    "from keras.models import Sequential, load_model\n",
    "from keras.layers.convolutional import Convolution2D\n",
    "from keras.layers.pooling import MaxPooling2D\n",
    "from keras.layers.core import Activation, Dropout, Flatten, Dense, Lambda\n",
    "from keras.layers import ELU\n",
    "from keras.optimizers import Adam\n",
    "import keras.backend.tensorflow_backend as KTF\n",
    "from keras.callbacks import EarlyStopping, ModelCheckpoint, TensorBoard\n",
    "color = sns.color_palette()\n",
    "\n",
    "%matplotlib inline"
   ]
  },
  {
   "cell_type": "code",
   "execution_count": null,
   "metadata": {},
   "outputs": [],
   "source": [
    "A = np.array([1, 3]).reshape((2, 1))\n",
    "B = np.array([1, 2]).reshape((1, 2))\n",
    "print(A.shape, B.shape)\n",
    "np.dot(A, B)"
   ]
  },
  {
   "cell_type": "code",
   "execution_count": null,
   "metadata": {},
   "outputs": [],
   "source": [
    "DATA_PATH = '/kaggle/dev/carvana-image-masking-challenge-data'\n",
    "RAW_DATA_PATH = os.path.join(DATA_PATH, 'raw_data')\n",
    "TRAIN_PATH = os.path.join(RAW_DATA_PATH, 'train')\n",
    "TEST_PATH = os.path.join(RAW_DATA_PATH, 'test')\n",
    "TRAIN_MASKS_PATH = os.path.join(RAW_DATA_PATH, 'train_masks')\n",
    "TRAIN_MASKS_CSV_PATH = os.path.join(RAW_DATA_PATH, 'train_masks.csv')\n",
    "SAMPLE_SUBMISSION_PATH = os.path.join(RAW_DATA_PATH, 'sample_submission.csv')\n",
    "METADATA_PATH = os.path.join(RAW_DATA_PATH, 'metadata.csv')"
   ]
  },
  {
   "cell_type": "code",
   "execution_count": null,
   "metadata": {},
   "outputs": [],
   "source": [
    "train_masks_df = pd.read_csv(TRAIN_MASKS_CSV_PATH)\n",
    "print('train_masks_df.shape', train_masks_df.shape)\n",
    "train_masks_df.head()"
   ]
  },
  {
   "cell_type": "code",
   "execution_count": null,
   "metadata": {},
   "outputs": [],
   "source": [
    "metadata_df = pd.read_csv(METADATA_PATH)\n",
    "print('metadata_df.shape', metadata_df.shape)\n",
    "metadata_df.head()"
   ]
  },
  {
   "cell_type": "code",
   "execution_count": null,
   "metadata": {},
   "outputs": [],
   "source": [
    "# Verify there are 5088 train images\n",
    "num_train_images = len(os.listdir(TRAIN_PATH))\n",
    "print('Training set contains {} cars with {} images each'.format(int(num_train_images/16), 16))"
   ]
  },
  {
   "cell_type": "code",
   "execution_count": null,
   "metadata": {},
   "outputs": [],
   "source": [
    "# Verify there are 100064 test images\n",
    "num_test_images = len(os.listdir(TEST_PATH))\n",
    "print('Test set contains {} cars with {} images each'.format(int(num_test_images/16), 16))"
   ]
  },
  {
   "cell_type": "code",
   "execution_count": null,
   "metadata": {},
   "outputs": [],
   "source": [
    "# Helper functions to plot car, mask, masked_car\n",
    "def plot_image(img_id):\n",
    "    try:\n",
    "        img = mpimg.imread(os.path.join(TRAIN_PATH, img_id + \".jpg\"))\n",
    "    except OSError as e:\n",
    "        img = mpimg.imread(os.path.join(TEST_PATH, img_id + \".jpg\"))\n",
    "    imgplot = plt.imshow(img)\n",
    "    plt.axis('off')\n",
    "    plt.show()\n",
    "    \n",
    "def plot_mask(img_id):\n",
    "    try:\n",
    "        mask = mpimg.imread(os.path.join(TRAIN_MASKS_PATH, img_id + \"_mask.gif\"))\n",
    "    except OSError as e:\n",
    "        mask = mpimg.imread(os.path.join(TEST_MASKS_PATH, img_id + \"_mask.gif\"))\n",
    "    imgplot = plt.imshow(mask)\n",
    "    plt.axis('off')\n",
    "    plt.show()\n",
    "    \n",
    "def plot_masked_image(img_id):\n",
    "    try:\n",
    "        img = mpimg.imread(os.path.join(TRAIN_PATH, img_id + \".jpg\"))\n",
    "        mask = mpimg.imread(os.path.join(TRAIN_MASKS_PATH, img_id + \"_mask.gif\"))\n",
    "    except OSError as e:\n",
    "        img = mpimg.imread(os.path.join(TEST_PATH, img_id + \".jpg\"))\n",
    "        mask = mpimg.imread(os.path.join(TEST_MASKS_PATH, img_id + \"_mask.gif\"))\n",
    "    mask = mask[:,:,0:3]\n",
    "    mask_mul = mask.copy()\n",
    "    mask_mul[mask == 255] = 1 \n",
    "    masked_img = img * mask_mul\n",
    "    imgplot = plt.imshow(masked_img)\n",
    "    plt.axis('off')\n",
    "    plt.show()"
   ]
  },
  {
   "cell_type": "code",
   "execution_count": null,
   "metadata": {
    "scrolled": false
   },
   "outputs": [],
   "source": [
    "# Plot random car, mask, masked_car\n",
    "random_car_idx = int(np.random.random() * len(train_masks_df))\n",
    "random_img_path = train_masks_df.iloc[random_car_idx].values[0]\n",
    "m = re.match(r'([a-f0-9].*).jpg', random_img_path)\n",
    "random_img_id = m.group(1)\n",
    "print('Car id {}'.format(random_img_id))\n",
    "plot_image(random_img_id)\n",
    "plot_mask(random_img_id)\n",
    "plot_masked_image(random_img_id)"
   ]
  },
  {
   "cell_type": "code",
   "execution_count": null,
   "metadata": {},
   "outputs": [],
   "source": [
    "# Sample submission\n",
    "sample_submission_df = pd.read_csv(SAMPLE_SUBMISSION_PATH)\n",
    "print('sample_submission_df.shape', sample_submission_df.shape)\n",
    "sample_submission_df.head()"
   ]
  },
  {
   "cell_type": "code",
   "execution_count": null,
   "metadata": {},
   "outputs": [],
   "source": [
    "from keras.models import Model, load_model\n",
    "from keras.layers import *\n",
    "from keras.optimizers import Adam, RMSprop\n",
    "from keras.losses import binary_crossentropy\n",
    "import keras.backend.tensorflow_backend as KTF\n",
    "def simple_model():\n",
    "    inputs = Input(shape=(2,2,2))\n",
    "    x = UpSampling2D((1,2))(inputs)\n",
    "    #x = MaxPooling2D((2, 2), strides=(2, 2))(x)\n",
    "    model = Model(inputs=inputs, outputs=x)\n",
    "    return model\n",
    "\n",
    "model = simple_model()\n",
    "model.compile(loss='binary_crossentropy', optimizer=RMSprop(lr=0.1))\n",
    "model.summary()"
   ]
  },
  {
   "cell_type": "code",
   "execution_count": null,
   "metadata": {},
   "outputs": [],
   "source": [
    "random_input = np.asarray([[[[1, 2], [3, 4]], [[5, 6], [7, 8]]]])\n",
    "print(random_input[0])\n",
    "#print(random_input.shape)\n",
    "model.predict(random_input)[0]"
   ]
  }
 ],
 "metadata": {
  "kernelspec": {
   "display_name": "Python 3",
   "language": "python",
   "name": "python3"
  },
  "language_info": {
   "codemirror_mode": {
    "name": "ipython",
    "version": 3
   },
   "file_extension": ".py",
   "mimetype": "text/x-python",
   "name": "python",
   "nbconvert_exporter": "python",
   "pygments_lexer": "ipython3",
   "version": "3.6.5"
  }
 },
 "nbformat": 4,
 "nbformat_minor": 2
}
